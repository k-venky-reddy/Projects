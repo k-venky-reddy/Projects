{
  "nbformat": 4,
  "nbformat_minor": 0,
  "metadata": {
    "colab": {
      "provenance": [],
      "include_colab_link": true
    },
    "kernelspec": {
      "name": "python3",
      "display_name": "Python 3"
    },
    "language_info": {
      "name": "python"
    }
  },
  "cells": [
    {
      "cell_type": "markdown",
      "metadata": {
        "id": "view-in-github",
        "colab_type": "text"
      },
      "source": [
        "<a href=\"https://colab.research.google.com/github/k-venky-reddy/Projects/blob/main/TO_DO_LIST_APPLICATION.ipynb\" target=\"_parent\"><img src=\"https://colab.research.google.com/assets/colab-badge.svg\" alt=\"Open In Colab\"/></a>"
      ]
    },
    {
      "cell_type": "code",
      "source": [
        " pip install simplejson"
      ],
      "metadata": {
        "colab": {
          "base_uri": "https://localhost:8080/"
        },
        "id": "mRdPX9Nibysc",
        "outputId": "26b859ea-c4c1-4876-a22e-02b79d338162"
      },
      "execution_count": null,
      "outputs": [
        {
          "output_type": "stream",
          "name": "stdout",
          "text": [
            "Requirement already satisfied: simplejson in /usr/local/lib/python3.10/dist-packages (3.19.2)\n"
          ]
        }
      ]
    },
    {
      "cell_type": "code",
      "source": [
        "pip install datetime"
      ],
      "metadata": {
        "colab": {
          "base_uri": "https://localhost:8080/"
        },
        "id": "gVx_3fAqcglK",
        "outputId": "50fc782d-2fc4-41d1-ddaf-fb1ec925e1be"
      },
      "execution_count": null,
      "outputs": [
        {
          "output_type": "stream",
          "name": "stdout",
          "text": [
            "Collecting datetime\n",
            "  Downloading DateTime-5.4-py3-none-any.whl (52 kB)\n",
            "\u001b[2K     \u001b[90m━━━━━━━━━━━━━━━━━━━━━━━━━━━━━━━━━━━━━━━━\u001b[0m \u001b[32m52.5/52.5 kB\u001b[0m \u001b[31m1.8 MB/s\u001b[0m eta \u001b[36m0:00:00\u001b[0m\n",
            "\u001b[?25hCollecting zope.interface (from datetime)\n",
            "  Downloading zope.interface-6.1-cp310-cp310-manylinux_2_5_x86_64.manylinux1_x86_64.manylinux_2_17_x86_64.manylinux2014_x86_64.whl (247 kB)\n",
            "\u001b[2K     \u001b[90m━━━━━━━━━━━━━━━━━━━━━━━━━━━━━━━━━━━━━━━━\u001b[0m \u001b[32m247.1/247.1 kB\u001b[0m \u001b[31m9.2 MB/s\u001b[0m eta \u001b[36m0:00:00\u001b[0m\n",
            "\u001b[?25hRequirement already satisfied: pytz in /usr/local/lib/python3.10/dist-packages (from datetime) (2023.3.post1)\n",
            "Requirement already satisfied: setuptools in /usr/local/lib/python3.10/dist-packages (from zope.interface->datetime) (67.7.2)\n",
            "Installing collected packages: zope.interface, datetime\n",
            "Successfully installed datetime-5.4 zope.interface-6.1\n"
          ]
        }
      ]
    },
    {
      "cell_type": "code",
      "source": [
        "import json\n",
        "import datetime"
      ],
      "metadata": {
        "id": "PK7Lji1xalww"
      },
      "execution_count": null,
      "outputs": []
    },
    {
      "cell_type": "code",
      "execution_count": null,
      "metadata": {
        "id": "UYfrD1jfaftC"
      },
      "outputs": [],
      "source": [
        "# File to store tasks\n",
        "TASKS_FILE = 'tasks.json'\n",
        "\n",
        "def load_tasks():\n",
        "    try:\n",
        "        with open(TASKS_FILE, 'r') as file:\n",
        "            return json.load(file)\n",
        "    except FileNotFoundError:\n",
        "        return []"
      ]
    },
    {
      "cell_type": "code",
      "source": [
        "def save_tasks(tasks):\n",
        "    with open(TASKS_FILE, 'w') as file:\n",
        "        json.dump(tasks, file, indent=4)"
      ],
      "metadata": {
        "id": "o9ArAgLbbE9p"
      },
      "execution_count": null,
      "outputs": []
    },
    {
      "cell_type": "code",
      "source": [
        "def add_task(tasks, title, priority, due_date):\n",
        "    task = {\n",
        "        'title': title,\n",
        "        'priority': priority,\n",
        "        'due_date': due_date,\n",
        "        'completed': False\n",
        "    }\n",
        "    tasks.append(task)\n",
        "    save_tasks(tasks)\n",
        "    print(\"Task added successfully.\")"
      ],
      "metadata": {
        "id": "dVWS7o-9bKOF"
      },
      "execution_count": null,
      "outputs": []
    },
    {
      "cell_type": "code",
      "source": [
        "def remove_task(tasks, index):\n",
        "    if 0 <= index < len(tasks):\n",
        "        del tasks[index]\n",
        "        save_tasks(tasks)\n",
        "        print(\"Task removed successfully.\")\n",
        "    else:\n",
        "        print(\"Invalid task index.\")"
      ],
      "metadata": {
        "id": "zMixPIdlbO30"
      },
      "execution_count": null,
      "outputs": []
    },
    {
      "cell_type": "code",
      "source": [
        "def mark_completed(tasks, index):\n",
        "    if 0 <= index < len(tasks):\n",
        "        tasks[index]['completed'] = True\n",
        "        save_tasks(tasks)\n",
        "        print(\"Task marked as completed.\")\n",
        "    else:\n",
        "        print(\"Invalid task index.\")"
      ],
      "metadata": {
        "id": "c8KMERibbR-o"
      },
      "execution_count": null,
      "outputs": []
    },
    {
      "cell_type": "code",
      "source": [
        "def list_tasks(tasks):\n",
        "    if not tasks:\n",
        "        print(\"No tasks found.\")\n",
        "    else:\n",
        "        for idx, task in enumerate(tasks):\n",
        "            status = 'Completed' if task['completed'] else 'Pending'\n",
        "            print(f\"{idx + 1}. {task['title']} - Priority: {task['priority']} - Due Date: {task['due_date']} - Status: {status}\")"
      ],
      "metadata": {
        "id": "rk_1fjJrbVjy"
      },
      "execution_count": null,
      "outputs": []
    },
    {
      "cell_type": "code",
      "source": [
        "def get_user_input():\n",
        "    print(\"\\n1. Add Task\")\n",
        "    print(\"2. Remove Task\")\n",
        "    print(\"3. Mark Task as Completed\")\n",
        "    print(\"4. List Tasks\")\n",
        "    print(\"5. Exit\")\n",
        "    return input(\"Choose an option: \")\n",
        "\n",
        "def main():\n",
        "    tasks = load_tasks()\n",
        "    while True:\n",
        "        option = get_user_input()\n",
        "        if option == '1':\n",
        "            title = input(\"Enter task title: \")\n",
        "            priority = input(\"Enter task priority (high/medium/low): \")\n",
        "            due_date = input(\"Enter due date (YYYY-MM-DD): \")\n",
        "            add_task(tasks, title, priority, due_date)\n",
        "        elif option == '2':\n",
        "            list_tasks(tasks)\n",
        "            index = int(input(\"Enter the index of the task to remove: \")) - 1\n",
        "            remove_task(tasks, index)\n",
        "        elif option == '3':\n",
        "            list_tasks(tasks)\n",
        "            index = int(input(\"Enter the index of the task to mark as completed: \")) - 1\n",
        "            mark_completed(tasks, index)\n",
        "        elif option == '4':\n",
        "            list_tasks(tasks)\n",
        "        elif option == '5':\n",
        "            break\n",
        "        else:\n",
        "            print(\"Invalid option. Please choose a valid option.\")\n",
        "\n",
        "if __name__ == \"__main__\":\n",
        "    main()"
      ],
      "metadata": {
        "colab": {
          "base_uri": "https://localhost:8080/"
        },
        "id": "JMeuB5XHbZgR",
        "outputId": "2150c9ec-6f05-4216-9b34-17bb1aaf4cda"
      },
      "execution_count": null,
      "outputs": [
        {
          "name": "stdout",
          "output_type": "stream",
          "text": [
            "\n",
            "1. Add Task\n",
            "2. Remove Task\n",
            "3. Mark Task as Completed\n",
            "4. List Tasks\n",
            "5. Exit\n",
            "Choose an option: 1\n",
            "Enter task title: Game Show\n",
            "Enter task priority (high/medium/low): medium\n",
            "Enter due date (YYYY-MM-DD): 2023-12-31\n",
            "Task added successfully.\n",
            "\n",
            "1. Add Task\n",
            "2. Remove Task\n",
            "3. Mark Task as Completed\n",
            "4. List Tasks\n",
            "5. Exit\n",
            "Choose an option: 2\n",
            "1. Game Show - Priority: medium - Due Date: 2023-12-31 - Status: Pending\n",
            "Enter the index of the task to remove: 1\n",
            "Task removed successfully.\n",
            "\n",
            "1. Add Task\n",
            "2. Remove Task\n",
            "3. Mark Task as Completed\n",
            "4. List Tasks\n",
            "5. Exit\n",
            "Choose an option: 4\n",
            "No tasks found.\n",
            "\n",
            "1. Add Task\n",
            "2. Remove Task\n",
            "3. Mark Task as Completed\n",
            "4. List Tasks\n",
            "5. Exit\n",
            "Choose an option: 5\n"
          ]
        }
      ]
    },
    {
      "cell_type": "code",
      "source": [],
      "metadata": {
        "id": "lbjoD8rnbaME"
      },
      "execution_count": null,
      "outputs": []
    },
    {
      "cell_type": "code",
      "source": [],
      "metadata": {
        "id": "PhSBQ-J9fLNm"
      },
      "execution_count": null,
      "outputs": []
    }
  ]
}