{
  "cells": [
    {
      "cell_type": "markdown",
      "metadata": {
        "id": "view-in-github",
        "colab_type": "text"
      },
      "source": [
        "<a href=\"https://colab.research.google.com/github/k-venky-reddy/Projects/blob/main/Sentiment_Analysis_of_Given_Sentences.ipynb\" target=\"_parent\"><img src=\"https://colab.research.google.com/assets/colab-badge.svg\" alt=\"Open In Colab\"/></a>"
      ]
    },
    {
      "cell_type": "code",
      "execution_count": null,
      "metadata": {
        "colab": {
          "base_uri": "https://localhost:8080/"
        },
        "id": "CncUNV-CCo4T",
        "outputId": "71df977e-3e15-4585-a0fe-11b12157aa40"
      },
      "outputs": [
        {
          "name": "stdout",
          "output_type": "stream",
          "text": [
            "Requirement already satisfied: nltk in /usr/local/lib/python3.10/dist-packages (3.8.1)\n",
            "Requirement already satisfied: click in /usr/local/lib/python3.10/dist-packages (from nltk) (8.1.7)\n",
            "Requirement already satisfied: joblib in /usr/local/lib/python3.10/dist-packages (from nltk) (1.3.2)\n",
            "Requirement already satisfied: regex>=2021.8.3 in /usr/local/lib/python3.10/dist-packages (from nltk) (2023.6.3)\n",
            "Requirement already satisfied: tqdm in /usr/local/lib/python3.10/dist-packages (from nltk) (4.66.1)\n",
            "Requirement already satisfied: textblob in /usr/local/lib/python3.10/dist-packages (0.17.1)\n",
            "Requirement already satisfied: nltk>=3.1 in /usr/local/lib/python3.10/dist-packages (from textblob) (3.8.1)\n",
            "Requirement already satisfied: click in /usr/local/lib/python3.10/dist-packages (from nltk>=3.1->textblob) (8.1.7)\n",
            "Requirement already satisfied: joblib in /usr/local/lib/python3.10/dist-packages (from nltk>=3.1->textblob) (1.3.2)\n",
            "Requirement already satisfied: regex>=2021.8.3 in /usr/local/lib/python3.10/dist-packages (from nltk>=3.1->textblob) (2023.6.3)\n",
            "Requirement already satisfied: tqdm in /usr/local/lib/python3.10/dist-packages (from nltk>=3.1->textblob) (4.66.1)\n"
          ]
        }
      ],
      "source": [
        "!pip install nltk\n",
        "!pip install textblob\n"
      ]
    },
    {
      "cell_type": "code",
      "execution_count": null,
      "metadata": {
        "colab": {
          "base_uri": "https://localhost:8080/"
        },
        "id": "SsmBxrRbCvJ5",
        "outputId": "8a41cc0e-c618-47cd-a22c-86a8b828af05"
      },
      "outputs": [
        {
          "name": "stderr",
          "output_type": "stream",
          "text": [
            "[nltk_data] Downloading package punkt to /root/nltk_data...\n",
            "[nltk_data]   Package punkt is already up-to-date!\n",
            "[nltk_data] Downloading package vader_lexicon to /root/nltk_data...\n",
            "[nltk_data]   Package vader_lexicon is already up-to-date!\n"
          ]
        },
        {
          "data": {
            "text/plain": [
              "True"
            ]
          },
          "execution_count": 6,
          "metadata": {},
          "output_type": "execute_result"
        }
      ],
      "source": [
        "import nltk\n",
        "from textblob import TextBlob\n",
        "from nltk.sentiment.vader import SentimentIntensityAnalyzer\n",
        "\n",
        "nltk.download('punkt')\n",
        "nltk.download('vader_lexicon')\n"
      ]
    },
    {
      "cell_type": "code",
      "execution_count": null,
      "metadata": {
        "id": "uT4v8Uq2CvNA"
      },
      "outputs": [],
      "source": [
        "# Initialize TextBlob sentiment analyzer\n",
        "def analyze_sentiment_textblob(text):\n",
        "    blob = TextBlob(text)\n",
        "    sentiment = blob.sentiment.polarity\n",
        "    return sentiment\n",
        "\n",
        "# Initialize VADER sentiment analyzer\n",
        "def analyze_sentiment_vader(text):\n",
        "    sia = SentimentIntensityAnalyzer()\n",
        "    sentiment_scores = sia.polarity_scores(text)\n",
        "    sentiment = sentiment_scores['compound']\n",
        "    return sentiment\n"
      ]
    },
    {
      "cell_type": "code",
      "execution_count": null,
      "metadata": {
        "colab": {
          "background_save": true,
          "base_uri": "https://localhost:8080/"
        },
        "id": "mZOYGSjiCvQI",
        "outputId": "d428af63-08bd-4875-bdc9-4adcaebfab52"
      },
      "outputs": [
        {
          "name": "stdout",
          "output_type": "stream",
          "text": [
            "Welcome to the Sentiment Analysis Chatbot!\n",
            "Chatbot: You seem to have a negative sentiment (TextBlob)\n",
            "Chatbot: You seem to have a compound sentiment score of -0.57 (VADER)\n",
            "Chatbot: You seem to have a positive sentiment (TextBlob)\n",
            "Chatbot: You seem to have a compound sentiment score of 0.64 (VADER)\n",
            "Chatbot: You seem to have a neutral sentiment (TextBlob)\n",
            "Chatbot: You seem to have a compound sentiment score of 0.36 (VADER)\n"
          ]
        }
      ],
      "source": [
        "def main():\n",
        "    print(\"Welcome to the Sentiment Analysis Chatbot!\")\n",
        "\n",
        "    while True:\n",
        "        user_input = input(\"You: \")\n",
        "\n",
        "        if user_input.lower() == 'exit':\n",
        "            print(\"Chatbot: Goodbye!\")\n",
        "            break\n",
        "\n",
        "        # Use both TextBlob and VADER for sentiment analysis\n",
        "        sentiment_textblob = analyze_sentiment_textblob(user_input)\n",
        "        sentiment_vader = analyze_sentiment_vader(user_input)\n",
        "\n",
        "        if sentiment_textblob > 0.0:\n",
        "            sentiment_label = \"positive\"\n",
        "        elif sentiment_textblob < 0.0:\n",
        "            sentiment_label = \"negative\"\n",
        "        else:\n",
        "            sentiment_label = \"neutral\"\n",
        "\n",
        "        print(f\"Chatbot: You seem to have a {sentiment_label} sentiment (TextBlob)\")\n",
        "        print(f\"Chatbot: You seem to have a compound sentiment score of {sentiment_vader:.2f} (VADER)\")\n",
        "\n",
        "if __name__ == \"__main__\":\n",
        "    main()\n"
      ]
    },
    {
      "cell_type": "code",
      "execution_count": null,
      "metadata": {
        "id": "Ufghc6IZCvgD"
      },
      "outputs": [],
      "source": []
    }
  ],
  "metadata": {
    "colab": {
      "toc_visible": true,
      "provenance": [],
      "authorship_tag": "ABX9TyNCcBBySodQrC+Ytp9PPHhg",
      "include_colab_link": true
    },
    "kernelspec": {
      "display_name": "Python 3",
      "name": "python3"
    },
    "language_info": {
      "name": "python"
    }
  },
  "nbformat": 4,
  "nbformat_minor": 0
}