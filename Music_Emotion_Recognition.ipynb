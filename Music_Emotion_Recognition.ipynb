{
  "cells": [
    {
      "cell_type": "markdown",
      "metadata": {
        "id": "view-in-github",
        "colab_type": "text"
      },
      "source": [
        "<a href=\"https://colab.research.google.com/github/k-venky-reddy/Music/blob/main/Music_Emotion_Recognition.ipynb\" target=\"_parent\"><img src=\"https://colab.research.google.com/assets/colab-badge.svg\" alt=\"Open In Colab\"/></a>"
      ]
    },
    {
      "cell_type": "markdown",
      "metadata": {
        "id": "aWQISPr1I7Vb"
      },
      "source": [
        "Import Modules"
      ]
    },
    {
      "cell_type": "code",
      "execution_count": 3,
      "metadata": {
        "id": "2yb5Ei45GJ2Q"
      },
      "outputs": [],
      "source": [
        "import pandas as pd\n",
        "import numpy as np\n",
        "import os\n",
        "import seaborn as sns\n",
        "import matplotlib.pyplot as plt\n",
        "import librosa\n",
        "import librosa.display\n",
        "from IPython.display import Audio\n",
        "import warnings\n",
        "warnings.filterwarnings('ignore')"
      ]
    },
    {
      "cell_type": "markdown",
      "metadata": {
        "id": "Q-Kw9JSRJR4F"
      },
      "source": [
        "Load the Dataset"
      ]
    },
    {
      "cell_type": "code",
      "execution_count": 4,
      "metadata": {
        "colab": {
          "base_uri": "https://localhost:8080/"
        },
        "id": "-bI-zJnwGNju",
        "outputId": "c76a4490-734f-4f2d-a801-84ee9115c440"
      },
      "outputs": [
        {
          "output_type": "stream",
          "name": "stdout",
          "text": [
            "Dataset is Loaded\n"
          ]
        }
      ],
      "source": [
        "paths = []\n",
        "labels = []\n",
        "for dirname, _, filenames in os.walk('/content/drive/MyDrive/archive'):\n",
        "    for filename in filenames:\n",
        "        paths.append(os.path.join(dirname, filename))\n",
        "        label = filename.split('_')[-1]\n",
        "        label = label.split('.')[0]\n",
        "        labels.append(label.lower())\n",
        "    if len(paths) == 280:\n",
        "                  break;\n",
        "print('Dataset is Loaded')"
      ]
    },
    {
      "cell_type": "code",
      "execution_count": 5,
      "metadata": {
        "colab": {
          "base_uri": "https://localhost:8080/"
        },
        "id": "w53H9jsaGOGV",
        "outputId": "f74ae3cd-d61c-4b1d-90c9-e74638e63dbd"
      },
      "outputs": [
        {
          "output_type": "execute_result",
          "data": {
            "text/plain": [
              "0"
            ]
          },
          "metadata": {},
          "execution_count": 5
        }
      ],
      "source": [
        "len(paths)"
      ]
    },
    {
      "cell_type": "code",
      "execution_count": null,
      "metadata": {
        "id": "hY7plHfgGOJK"
      },
      "outputs": [],
      "source": [
        "paths[:5]"
      ]
    },
    {
      "cell_type": "code",
      "execution_count": 7,
      "metadata": {
        "colab": {
          "base_uri": "https://localhost:8080/"
        },
        "id": "raC94_PmGOL1",
        "outputId": "0fa50a58-1342-418b-9991-df4081107a92"
      },
      "outputs": [
        {
          "output_type": "execute_result",
          "data": {
            "text/plain": [
              "[]"
            ]
          },
          "metadata": {},
          "execution_count": 7
        }
      ],
      "source": [
        "labels[:5]"
      ]
    },
    {
      "cell_type": "markdown",
      "metadata": {
        "id": "0kelNz6zJbWn"
      },
      "source": [
        "Now we create a dataframe of the audio files and labels"
      ]
    },
    {
      "cell_type": "code",
      "execution_count": null,
      "metadata": {
        "id": "9Mcodyg1GOP_"
      },
      "outputs": [],
      "source": [
        "## Create a dataframe\n",
        "df = pd.DataFrame()\n",
        "df['speech'] = paths\n",
        "df['label'] = labels\n",
        "df.head()"
      ]
    },
    {
      "cell_type": "code",
      "execution_count": null,
      "metadata": {
        "id": "Alri3W76GOTd"
      },
      "outputs": [],
      "source": [
        "df['label'].value_counts()"
      ]
    },
    {
      "cell_type": "markdown",
      "metadata": {
        "id": "wCBkn0nKJjFC"
      },
      "source": [
        "Exploratory Data Analysis"
      ]
    },
    {
      "cell_type": "code",
      "execution_count": 1,
      "metadata": {
        "colab": {
          "base_uri": "https://localhost:8080/",
          "height": 175
        },
        "id": "AFHZfXVCGOV9",
        "outputId": "646f8969-5c9d-4db5-cc3b-6e3ec74022f6"
      },
      "outputs": [
        {
          "output_type": "error",
          "ename": "NameError",
          "evalue": "ignored",
          "traceback": [
            "\u001b[0;31m---------------------------------------------------------------------------\u001b[0m",
            "\u001b[0;31mNameError\u001b[0m                                 Traceback (most recent call last)",
            "\u001b[0;32m<ipython-input-1-e38b961c8dfc>\u001b[0m in \u001b[0;36m<cell line: 1>\u001b[0;34m()\u001b[0m\n\u001b[0;32m----> 1\u001b[0;31m \u001b[0msns\u001b[0m\u001b[0;34m.\u001b[0m\u001b[0mcountplot\u001b[0m\u001b[0;34m(\u001b[0m\u001b[0mdf\u001b[0m\u001b[0;34m[\u001b[0m\u001b[0;34m'label'\u001b[0m\u001b[0;34m]\u001b[0m\u001b[0;34m)\u001b[0m\u001b[0;34m\u001b[0m\u001b[0;34m\u001b[0m\u001b[0m\n\u001b[0m",
            "\u001b[0;31mNameError\u001b[0m: name 'sns' is not defined"
          ]
        }
      ],
      "source": [
        "sns.countplot(df['label'])"
      ]
    },
    {
      "cell_type": "code",
      "source": [
        "from google.colab import drive\n",
        "drive.mount('/content/drive')"
      ],
      "metadata": {
        "id": "HSaRgjiXg2Lk"
      },
      "execution_count": null,
      "outputs": []
    },
    {
      "cell_type": "markdown",
      "metadata": {
        "id": "vKhBwjWVJpF3"
      },
      "source": [
        "Now we define the functions for the waveplot and spectrogram"
      ]
    },
    {
      "cell_type": "code",
      "execution_count": null,
      "metadata": {
        "id": "ZM7M8tCVGOYW"
      },
      "outputs": [],
      "source": [
        "def waveplot(data, sr, emotion):\n",
        "    plt.figure(figsize=(10,4))\n",
        "    plt.title(emotion, size=20)\n",
        "    librosa.display.waveplot(data, sr=sr)\n",
        "    plt.show()\n",
        "\n",
        "def spectogram(data, sr, emotion):\n",
        "     x = librosa.stft(data)\n",
        "     xdb = librosa.amplitude_to_db(abs(x))\n",
        "     plt.figure(figsize=(11,4))\n",
        "     plt.title(emotion, size=20)\n",
        "     librosa.display.specshow(xdb, sr=sr, x_axis='time', y_axis='hz')\n",
        "     plt.colorbar()"
      ]
    },
    {
      "cell_type": "code",
      "execution_count": null,
      "metadata": {
        "id": "BxvsM1gfGObb"
      },
      "outputs": [],
      "source": [
        "emotion = 'fear'\n",
        "path = np.array(df['speech'][df['label']==emotion])[0]\n",
        "data, sampling_rate = librosa.load(path)\n",
        "waveplot(data, sampling_rate, emotion)\n",
        "spectogram(data, sampling_rate, emotion)\n",
        "Audio(path)"
      ]
    },
    {
      "cell_type": "code",
      "execution_count": null,
      "metadata": {
        "id": "qhsZltIKGOeh"
      },
      "outputs": [],
      "source": [
        "emotion = 'angry'\n",
        "path = np.array(df['speech'][df['label']==emotion])[1]\n",
        "data, sampling_rate = librosa.load(path)\n",
        "waveplot(data, sampling_rate, emotion)\n",
        "spectogram(data, sampling_rate, emotion)\n",
        "Audio(path)\n"
      ]
    },
    {
      "cell_type": "code",
      "execution_count": null,
      "metadata": {
        "id": "THF5wBD2GOhM"
      },
      "outputs": [],
      "source": [
        "emotion = 'disgust'\n",
        "path = np.array(df['speech'][df['label']==emotion])[0]\n",
        "data, sampling_rate = librosa.load(path)\n",
        "waveplot(data, sampling_rate, emotion)\n",
        "spectogram(data, sampling_rate, emotion)\n",
        "Audio(path)"
      ]
    },
    {
      "cell_type": "code",
      "execution_count": null,
      "metadata": {
        "id": "3sAszNfKGOkF"
      },
      "outputs": [],
      "source": [
        "emotion = 'neutral'\n",
        "path = np.array(df['speech'][df['label']==emotion])[0]\n",
        "data, sampling_rate = librosa.load(path)\n",
        "waveplot(data, sampling_rate, emotion)\n",
        "spectogram(data, sampling_rate, emotion)\n",
        "Audio(path)"
      ]
    },
    {
      "cell_type": "code",
      "execution_count": null,
      "metadata": {
        "id": "iVlYBCmYGOmz"
      },
      "outputs": [],
      "source": [
        "emotion = 'sad'\n",
        "path = np.array(df['speech'][df['label']==emotion])[0]\n",
        "data, sampling_rate = librosa.load(path)\n",
        "waveplot(data, sampling_rate, emotion)\n",
        "spectogram(data, sampling_rate, emotion)\n",
        "Audio(path)"
      ]
    },
    {
      "cell_type": "code",
      "execution_count": null,
      "metadata": {
        "id": "1cn8flVmGOpb"
      },
      "outputs": [],
      "source": [
        "emotion = 'ps'\n",
        "path = np.array(df['speech'][df['label']==emotion])[0]\n",
        "data, sampling_rate = librosa.load(path)\n",
        "waveplot(data, sampling_rate, emotion)\n",
        "spectogram(data, sampling_rate, emotion)\n",
        "Audio(path)"
      ]
    },
    {
      "cell_type": "code",
      "execution_count": null,
      "metadata": {
        "id": "ae5tFJh2GOr5"
      },
      "outputs": [],
      "source": [
        "emotion = 'happy'\n",
        "path = np.array(df['speech'][df['label']==emotion])[0]\n",
        "data, sampling_rate = librosa.load(path)\n",
        "waveplot(data, sampling_rate, emotion)\n",
        "spectogram(data, sampling_rate, emotion)\n",
        "Audio(path)"
      ]
    },
    {
      "cell_type": "code",
      "execution_count": null,
      "metadata": {
        "id": "t36KOnqzGOug"
      },
      "outputs": [],
      "source": [
        "def extract_mfcc(filename):\n",
        "     y, sr = librosa.load(filename, duration=3, offset=0.5)\n",
        "     mfcc = np.mean(librosa.feature.mfcc(y=y, sr=sr, n_mfcc=40).T, axis=0)\n",
        "     return mfcc"
      ]
    },
    {
      "cell_type": "code",
      "execution_count": null,
      "metadata": {
        "id": "M155YGe6GOxF"
      },
      "outputs": [],
      "source": [
        "extract_mfcc(df['speech'][0])"
      ]
    },
    {
      "cell_type": "code",
      "execution_count": null,
      "metadata": {
        "id": "8TN2CM-AGOzt"
      },
      "outputs": [],
      "source": [
        "X_mfcc = df['speech'].apply(lambda x: extract_mfcc(x))"
      ]
    },
    {
      "cell_type": "code",
      "execution_count": null,
      "metadata": {
        "id": "T5iu6k3rGO2v"
      },
      "outputs": [],
      "source": [
        "X_mfcc"
      ]
    },
    {
      "cell_type": "code",
      "execution_count": null,
      "metadata": {
        "id": "WrngXdKoGO5U"
      },
      "outputs": [],
      "source": [
        "X = [x for x in X_mfcc]\n",
        "X = np.array(X)\n",
        "X.shape"
      ]
    },
    {
      "cell_type": "code",
      "execution_count": null,
      "metadata": {
        "id": "ULJOXVytGO7v"
      },
      "outputs": [],
      "source": [
        "## input split\n",
        "X = np.expand_dims(X, -1)\n",
        "X.shape"
      ]
    },
    {
      "cell_type": "code",
      "execution_count": null,
      "metadata": {
        "id": "jMdms_NjGPAw"
      },
      "outputs": [],
      "source": [
        "from sklearn.preprocessing import OneHotEncoder\n",
        "enc = OneHotEncoder()\n",
        "y = enc.fit_transform(df[['label']])"
      ]
    },
    {
      "cell_type": "code",
      "execution_count": null,
      "metadata": {
        "id": "g8a1rqy5GPD1"
      },
      "outputs": [],
      "source": [
        "y = y.toarray()"
      ]
    },
    {
      "cell_type": "code",
      "execution_count": null,
      "metadata": {
        "id": "Y4Usvh4_GPGs"
      },
      "outputs": [],
      "source": [
        "y.shape"
      ]
    }
  ],
  "metadata": {
    "colab": {
      "provenance": [],
      "include_colab_link": true
    },
    "kernelspec": {
      "display_name": "Python 3",
      "name": "python3"
    },
    "language_info": {
      "name": "python"
    }
  },
  "nbformat": 4,
  "nbformat_minor": 0
}