{
  "nbformat": 4,
  "nbformat_minor": 0,
  "metadata": {
    "colab": {
      "provenance": [],
      "toc_visible": true,
      "authorship_tag": "ABX9TyPicehV/tm0Of2d/IPjc+YP",
      "include_colab_link": true
    },
    "kernelspec": {
      "name": "python3",
      "display_name": "Python 3"
    },
    "language_info": {
      "name": "python"
    }
  },
  "cells": [
    {
      "cell_type": "markdown",
      "metadata": {
        "id": "view-in-github",
        "colab_type": "text"
      },
      "source": [
        "<a href=\"https://colab.research.google.com/github/k-venky-reddy/Projects/blob/main/Personal_Budget_Tracker.ipynb\" target=\"_parent\"><img src=\"https://colab.research.google.com/assets/colab-badge.svg\" alt=\"Open In Colab\"/></a>"
      ]
    },
    {
      "cell_type": "code",
      "execution_count": 1,
      "metadata": {
        "id": "Uxb_9oZYUjOp"
      },
      "outputs": [],
      "source": [
        "import json\n",
        "from collections import defaultdict"
      ]
    },
    {
      "cell_type": "code",
      "source": [
        "TRANSACTIONS_FILE = 'transactions.json'\n",
        "def load_transactions():\n",
        "    try:\n",
        "        with open(TRANSACTIONS_FILE, 'r') as file:\n",
        "            return json.load(file)\n",
        "    except FileNotFoundError:\n",
        "        return {'income': [], 'expenses': []}"
      ],
      "metadata": {
        "id": "IlPeTs8mVQUh"
      },
      "execution_count": 2,
      "outputs": []
    },
    {
      "cell_type": "code",
      "source": [
        "def save_transactions(transactions):\n",
        "    with open(TRANSACTIONS_FILE, 'w') as file:\n",
        "        json.dump(transactions, file, indent=4)"
      ],
      "metadata": {
        "id": "gvDN88QVVQXO"
      },
      "execution_count": 3,
      "outputs": []
    },
    {
      "cell_type": "code",
      "source": [
        "def add_income(transactions, category, amount):\n",
        "    income = {'category': category, 'amount': amount}\n",
        "    transactions['income'].append(income)\n",
        "    save_transactions(transactions)\n",
        "    print(\"Income added successfully.\")\n"
      ],
      "metadata": {
        "id": "oRZiU9ziVQaA"
      },
      "execution_count": 4,
      "outputs": []
    },
    {
      "cell_type": "code",
      "source": [
        "def add_expense(transactions, category, amount):\n",
        "    expense = {'category': category, 'amount': amount}\n",
        "    transactions['expenses'].append(expense)\n",
        "    save_transactions(transactions)\n",
        "    print(\"Expense added successfully.\")"
      ],
      "metadata": {
        "id": "ZVXKdRUUVQce"
      },
      "execution_count": 5,
      "outputs": []
    },
    {
      "cell_type": "code",
      "source": [
        "def calculate_budget(transactions):\n",
        "    total_income = sum(entry['amount'] for entry in transactions['income'])\n",
        "    total_expense = sum(entry['amount'] for entry in transactions['expenses'])\n",
        "    remaining_budget = total_income - total_expense\n",
        "    return remaining_budget\n"
      ],
      "metadata": {
        "id": "bZzo8rPrVQfH"
      },
      "execution_count": 6,
      "outputs": []
    },
    {
      "cell_type": "code",
      "source": [
        "def analyze_expenses(transactions):\n",
        "    expense_categories = defaultdict(int)\n",
        "    for expense in transactions['expenses']:\n",
        "        category = expense['category']\n",
        "        expense_categories[category] += expense['amount']\n",
        "\n",
        "    print(\"Expense Analysis:\")\n",
        "    for category, amount in expense_categories.items():\n",
        "        print(f\"{category}: ${amount}\")"
      ],
      "metadata": {
        "id": "81xn8pKMVQi-"
      },
      "execution_count": 7,
      "outputs": []
    },
    {
      "cell_type": "code",
      "source": [
        "\n",
        "def get_user_input():\n",
        "    print(\"\\n1. Add Income\")\n",
        "    print(\"2. Add Expense\")\n",
        "    print(\"3. Calculate Remaining Budget\")\n",
        "    print(\"4. Analyze Expenses\")\n",
        "    print(\"5. Exit\")\n",
        "    return input(\"Choose an option: \")\n"
      ],
      "metadata": {
        "id": "X8xy5HPhVQmH"
      },
      "execution_count": 8,
      "outputs": []
    },
    {
      "cell_type": "code",
      "source": [
        "def main():\n",
        "    transactions = load_transactions()\n",
        "    while True:\n",
        "        option = get_user_input()\n",
        "        if option == '1':\n",
        "            category = input(\"Enter income category: \")\n",
        "            amount = float(input(\"Enter income amount: \"))\n",
        "            add_income(transactions, category, amount)\n",
        "        elif option == '2':\n",
        "            category = input(\"Enter expense category: \")\n",
        "            amount = float(input(\"Enter expense amount: \"))\n",
        "            add_expense(transactions, category, amount)\n",
        "        elif option == '3':\n",
        "            remaining_budget = calculate_budget(transactions)\n",
        "            print(f\"Remaining Budget: ${remaining_budget}\")\n",
        "        elif option == '4':\n",
        "            analyze_expenses(transactions)\n",
        "        elif option == '5':\n",
        "            break\n",
        "        else:\n",
        "            print(\"Invalid option. Please choose a valid option.\")\n"
      ],
      "metadata": {
        "id": "eKnd7bRXVQo-"
      },
      "execution_count": 9,
      "outputs": []
    },
    {
      "cell_type": "code",
      "source": [
        "if __name__ == \"__main__\":\n",
        "    main()\n"
      ],
      "metadata": {
        "colab": {
          "base_uri": "https://localhost:8080/"
        },
        "id": "rJjruTRkXE0o",
        "outputId": "d4b74ee5-7d3d-45eb-ccbf-ff32727372a0"
      },
      "execution_count": 10,
      "outputs": [
        {
          "name": "stdout",
          "output_type": "stream",
          "text": [
            "\n",
            "1. Add Income\n",
            "2. Add Expense\n",
            "3. Calculate Remaining Budget\n",
            "4. Analyze Expenses\n",
            "5. Exit\n",
            "Choose an option: 1\n",
            "Enter income category: 25000\n",
            "Enter income amount: 30000\n",
            "Income added successfully.\n",
            "\n",
            "1. Add Income\n",
            "2. Add Expense\n",
            "3. Calculate Remaining Budget\n",
            "4. Analyze Expenses\n",
            "5. Exit\n",
            "Choose an option: 2\n",
            "Enter expense category: 15000\n",
            "Enter expense amount: 15000\n",
            "Expense added successfully.\n",
            "\n",
            "1. Add Income\n",
            "2. Add Expense\n",
            "3. Calculate Remaining Budget\n",
            "4. Analyze Expenses\n",
            "5. Exit\n",
            "Choose an option: 3\n",
            "Remaining Budget: $15000.0\n",
            "\n",
            "1. Add Income\n",
            "2. Add Expense\n",
            "3. Calculate Remaining Budget\n",
            "4. Analyze Expenses\n",
            "5. Exit\n",
            "Choose an option: 4\n",
            "Expense Analysis:\n",
            "15000: $15000.0\n",
            "\n",
            "1. Add Income\n",
            "2. Add Expense\n",
            "3. Calculate Remaining Budget\n",
            "4. Analyze Expenses\n",
            "5. Exit\n",
            "Choose an option: 5\n"
          ]
        }
      ]
    }
  ]
}